{
 "cells": [
  {
   "cell_type": "code",
   "execution_count": 1,
   "metadata": {},
   "outputs": [],
   "source": [
    "import refinitiv.data as rd\n",
    "from refinitiv.data.content import historical_pricing\n",
    "from refinitiv.data.content.historical_pricing import Intervals\n",
    "from refinitiv.data.content.historical_pricing import Adjustments\n",
    "\n",
    "import pandas as pd\n",
    "import numpy as np\n",
    "\n",
    "%load_ext autoreload\n",
    "%autoreload 2"
   ]
  },
  {
   "cell_type": "code",
   "execution_count": 4,
   "metadata": {},
   "outputs": [],
   "source": [
    "start_date = \"2010-01-01\"\n",
    "end_date = \"2024-12-31\""
   ]
  },
  {
   "cell_type": "code",
   "execution_count": 6,
   "metadata": {},
   "outputs": [],
   "source": [
    "rd.open_session();"
   ]
  },
  {
   "cell_type": "code",
   "execution_count": 7,
   "metadata": {},
   "outputs": [],
   "source": [
    "response_BTC = historical_pricing.summaries.Definition(\n",
    "            \"BTC=\"+\"CCCL\",\n",
    "            interval=Intervals.DAILY,\n",
    "            start=start_date,\n",
    "            end=end_date,\n",
    "            adjustments = [\n",
    "                Adjustments.EXCHANGE_CORRECTION,\n",
    "                Adjustments.MANUAL_CORRECTION\n",
    "            ],\n",
    "        ).get_data()\n",
    "\n",
    "response_ETH = historical_pricing.summaries.Definition(\n",
    "            \"ETH=\"+\"CCCL\",\n",
    "            interval=Intervals.DAILY,\n",
    "            start=start_date,\n",
    "            end=end_date,\n",
    "            adjustments = [\n",
    "                Adjustments.EXCHANGE_CORRECTION,\n",
    "                Adjustments.MANUAL_CORRECTION\n",
    "            ],\n",
    "        ).get_data()"
   ]
  },
  {
   "cell_type": "code",
   "execution_count": 89,
   "metadata": {},
   "outputs": [],
   "source": [
    "price_BTC = response_BTC.data.df.TRDPRC_1.dropna()\n",
    "price_ETH = response_ETH.data.df.TRDPRC_1.dropna()\n",
    "\n",
    "dates = np.intersect1d(price_BTC.index, price_ETH.index)\n",
    "dates = dates[dates >= pd.Timestamp('2016-01-01')]\n",
    "\n",
    "price_BTC = price_BTC.loc[dates]\n",
    "price_ETH = price_ETH.loc[dates]\n",
    "\n",
    "returns_BTC = price_BTC.pct_change(fill_method=None).shift(-1).iloc[:-1]\n",
    "returns_ETH = price_ETH.pct_change(fill_method=None).shift(-1).iloc[:-1]"
   ]
  },
  {
   "cell_type": "code",
   "execution_count": 91,
   "metadata": {},
   "outputs": [],
   "source": [
    "# save to data folder\n",
    "price_BTC.to_csv('../data/BTC_price.csv')\n",
    "price_ETH.to_csv('../data/ETH_price.csv')\n",
    "returns_BTC.to_csv('../data/BTC_returns.csv')\n",
    "returns_ETH.to_csv('../data/ETH_returns.csv')"
   ]
  },
  {
   "cell_type": "code",
   "execution_count": 96,
   "metadata": {},
   "outputs": [
    {
     "name": "stderr",
     "output_type": "stream",
     "text": [
      "[*********************100%***********************]  1 of 1 completed\n"
     ]
    }
   ],
   "source": [
    "# import sp500 from yahoo finance\n",
    "import yfinance as yf\n",
    "sp500 = yf.download('^GSPC', start='2016-01-01')['Adj Close']\n",
    "sp500_returns = sp500.pct_change(fill_method=None).shift(-1).iloc[:-1]\n",
    "sp500_returns.to_csv('../data/sp500_returns.csv')"
   ]
  }
 ],
 "metadata": {
  "kernelspec": {
   "display_name": ".venv",
   "language": "python",
   "name": "python3"
  },
  "language_info": {
   "codemirror_mode": {
    "name": "ipython",
    "version": 3
   },
   "file_extension": ".py",
   "mimetype": "text/x-python",
   "name": "python",
   "nbconvert_exporter": "python",
   "pygments_lexer": "ipython3",
   "version": "3.10.15"
  }
 },
 "nbformat": 4,
 "nbformat_minor": 2
}
